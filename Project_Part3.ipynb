{
 "cells": [
  {
   "cell_type": "markdown",
   "metadata": {},
   "source": [
    "# We Adapted the ideas of Guillaume Payen's code for preparing the data for  SVM Algorithm from:\n",
    "https://www.kaggle.com/gpayen/d/snap/amazon-fine-food-reviews/building-a-prediction-model/notebook"
   ]
  },
  {
   "cell_type": "code",
   "execution_count": 7,
   "metadata": {
    "collapsed": true
   },
   "outputs": [],
   "source": [
    "%matplotlib inline\n",
    "import pandas as pd\n",
    "import numpy as np\n",
    "import nltk\n",
    "import string\n",
    "import matplotlib.pyplot as plt\n",
    "import numpy as np\n",
    "\n",
    "from sklearn.feature_extraction.text import TfidfTransformer\n",
    "from sklearn.feature_extraction.text import CountVectorizer\n",
    "from sklearn.cross_validation import train_test_split\n",
    "from sklearn.metrics import confusion_matrix\n",
    "from sklearn import metrics\n",
    "from sklearn.metrics import roc_curve, auc\n",
    "from nltk.stem.porter import PorterStemmer\n",
    "from sklearn import cross_validation\n",
    "\n",
    "mergeDataSet = pd.read_csv(\"dfFineFood_copy.csv\")\n",
    "\n",
    "Score = mergeDataSet['Score']\n",
    "Summary = mergeDataSet['Text']\n",
    "X_train, X_test, y_train, y_test = cross_validation.train_test_split(Summary, Score, test_size=0.2, random_state=42)"
   ]
  },
  {
   "cell_type": "code",
   "execution_count": null,
   "metadata": {
    "collapsed": false
   },
   "outputs": [
    {
     "name": "stdout",
     "output_type": "stream",
     "text": [
      "showing info https://raw.githubusercontent.com/nltk/nltk_data/gh-pages/index.xml\n"
     ]
    }
   ],
   "source": [
    "nltk.download()"
   ]
  },
  {
   "cell_type": "code",
   "execution_count": 8,
   "metadata": {
    "collapsed": false
   },
   "outputs": [
    {
     "name": "stdout",
     "output_type": "stream",
     "text": [
      "                                                    After  \\\n",
      "251349  we love lavazza gran riserva we have a jura es...   \n",
      "523262  thi wa bought as a treat for our cat he s a ma...   \n",
      "224543  perfect varieti of flavor local sea salt to ad...   \n",
      "291632  order thi on a whim thru subscrib save cooki w...   \n",
      "37385   thi oatmeal is wonder it is just like the oatm...   \n",
      "151024  one of my dog is allerg to almost everyth in d...   \n",
      "347910  i first found thi hot sauc while on vacat in s...   \n",
      "433324  i like my coffe kind of medium not too strong ...   \n",
      "361287  i love thi coffe and thi wa a deal for 3 box b...   \n",
      "408062  krave chocol is the most delect cereal i have ...   \n",
      "17816   i like all the mari s gone cracker s item but ...   \n",
      "5267    as i get older and fatter i seek opportun to e...   \n",
      "437080  late i ve been realli get into espresso and th...   \n",
      "520689  it ha been someth i had look for so long but a...   \n",
      "373935  our son love thi cereal thi is a nice transit ...   \n",
      "358297  not as good as lavazza tierra but good nonethe...   \n",
      "216747  i did a littl bit more research onlin befor ta...   \n",
      "362348  jar are smaller than pictur i bought these yea...   \n",
      "556081  i m on a diet eat right for your blood type an...   \n",
      "430884  i stumbl up on these one day in a local deli i...   \n",
      "\n",
      "                                                   Before  \n",
      "251349  we love lavazza gran riserva. we have a jura e...  \n",
      "523262  this was bought as a treat for our cat.  he's ...  \n",
      "224543  perfect variety of flavored/local sea salts to...  \n",
      "291632  ordered this on a whim thru subscribe & save. ...  \n",
      "37385   this oatmeal is wonderful!!! it is just like t...  \n",
      "151024  one of my dogs is allergic to almost everythin...  \n",
      "347910  i first found this hot sauce while on vacation...  \n",
      "433324  i like my coffee kind of medium, not too stron...  \n",
      "361287  i love this coffee and this was a deal for 3 b...  \n",
      "408062  krave chocolate is the most delectable cereal ...  \n",
      "17816   i like all the mary's gone cracker's items but...  \n",
      "5267    as i get older and fatter, i seek opportunitie...  \n",
      "437080  lately i've been really getting into espresso,...  \n",
      "520689  it has been something i had looked for so long...  \n",
      "373935  our son loves this cereal.  this is a nice tra...  \n",
      "358297  not as good as lavazza tierra, but good noneth...  \n",
      "216747  i did a little bit more research online before...  \n",
      "362348  jars are smaller than pictured....i bought the...  \n",
      "556081  i'm on a diet, eat right for your blood type a...  \n",
      "430884  i stumbled up on these one day in a local deli...  \n"
     ]
    }
   ],
   "source": [
    "# Retrieved from \n",
    "# https://www.kaggle.com/gpayen/d/snap/amazon-fine-food-reviews/building-a-prediction-model/comments\n",
    "stemmer = PorterStemmer()\n",
    "from nltk.corpus import stopwords\n",
    "\n",
    "def stem_tokens(tokens, stemmer):\n",
    "    stemmed = []\n",
    "    for item in tokens:\n",
    "        stemmed.append(stemmer.stem(item))\n",
    "    return stemmed\n",
    "\n",
    "def tokenize(text):\n",
    "    tokens = nltk.word_tokenize(text)\n",
    "    #tokens = [word for word in tokens if word not in stopwords.words('english')]\n",
    "    stems = stem_tokens(tokens, stemmer)\n",
    "    return ' '.join(stems)\n",
    "\n",
    "intab = string.punctuation\n",
    "outtab = \"                                \"\n",
    "trantab = str.maketrans(intab, outtab)\n",
    "\n",
    "#--- Training set\n",
    "\n",
    "corpus = []\n",
    "for text in X_train:\n",
    "    text = str(text)\n",
    "    text = text.lower()\n",
    "    text = text.translate(trantab)\n",
    "    text=tokenize(text)\n",
    "    corpus.append(text)\n",
    "        \n",
    "count_vect = CountVectorizer()\n",
    "X_train_counts = count_vect.fit_transform(corpus)        \n",
    "        \n",
    "tfidf_transformer = TfidfTransformer()\n",
    "X_train_tfidf = tfidf_transformer.fit_transform(X_train_counts)\n",
    "\n",
    "#--- Test set\n",
    "\n",
    "test_set = []\n",
    "for text in X_test:\n",
    "    text = str(text)\n",
    "    text = text.lower()\n",
    "    text = text.translate(trantab)\n",
    "    text=tokenize(text)\n",
    "    test_set.append(text)\n",
    "\n",
    "X_new_counts = count_vect.transform(test_set)\n",
    "X_test_tfidf = tfidf_transformer.transform(X_new_counts)\n",
    "\n",
    "from pandas import *\n",
    "df = DataFrame({'Before': X_train, 'After': corpus})\n",
    "print(df.head(20))\n",
    "\n",
    "prediction = dict()"
   ]
  },
  {
   "cell_type": "code",
   "execution_count": 9,
   "metadata": {
    "collapsed": false
   },
   "outputs": [
    {
     "name": "stdout",
     "output_type": "stream",
     "text": [
      "[[10801  5637]\n",
      " [ 2561 94692]]\n"
     ]
    }
   ],
   "source": [
    "# Retrieved from \n",
    "# https://www.kaggle.com/gpayen/d/snap/amazon-fine-food-reviews/building-a-prediction-model/comments\n",
    "from sklearn.svm import LinearSVC\n",
    "from sklearn.metrics import confusion_matrix\n",
    "svm_clf = LinearSVC(C=1, penalty='l1', dual=False)\n",
    "svm_clf.fit(X_train_tfidf,y_train)\n",
    "svm_clf.score(X_test_tfidf,y_test)\n",
    "y_pred = svm_clf.fit(X_train_tfidf, y_train).predict(X_test_tfidf)\n",
    "cm=confusion_matrix(y_test, y_pred)\n",
    "print(cm)"
   ]
  },
  {
   "cell_type": "code",
   "execution_count": 10,
   "metadata": {
    "collapsed": false
   },
   "outputs": [
    {
     "name": "stdout",
     "output_type": "stream",
     "text": [
      "             precision    recall  f1-score   support\n",
      "\n",
      "   positive       0.81      0.66      0.72     16438\n",
      "   negative       0.94      0.97      0.96     97253\n",
      "\n",
      "avg / total       0.92      0.93      0.92    113691\n",
      "\n"
     ]
    }
   ],
   "source": [
    "print(metrics.classification_report(y_test, y_pred, target_names = [\"positive\", \"negative\"]))"
   ]
  },
  {
   "cell_type": "code",
   "execution_count": 11,
   "metadata": {
    "collapsed": true
   },
   "outputs": [],
   "source": [
    "# Retrieved from \n",
    "# https://www.kaggle.com/gpayen/d/snap/amazon-fine-food-reviews/building-a-prediction-model/comments\n",
    "def label(x):\n",
    "    if x < 0.5:\n",
    "        return 'Not Useful'\n",
    "    return 'Useful'\n",
    "\n",
    "\n",
    "Summary = mergeDataSet['Summary']\n",
    "UseRatio = mergeDataSet['HelpfulnessFraction']\n",
    "UseRatio = UseRatio.map(label)\n",
    "X_train, X_test, y_train, y_test = cross_validation.train_test_split(Summary, UseRatio, test_size=0.2, random_state=42)"
   ]
  },
  {
   "cell_type": "code",
   "execution_count": 12,
   "metadata": {
    "collapsed": false
   },
   "outputs": [
    {
     "name": "stdout",
     "output_type": "stream",
     "text": [
      "[[49665 14693]\n",
      " [25504 23829]]\n"
     ]
    }
   ],
   "source": [
    "# Retrieved from \n",
    "# https://www.kaggle.com/gpayen/d/snap/amazon-fine-food-reviews/building-a-prediction-model/comments\n",
    "from sklearn.svm import LinearSVC\n",
    "from sklearn.metrics import confusion_matrix\n",
    "svm_clf = LinearSVC(C=2, penalty='l2', dual=False)\n",
    "svm_clf.fit(X_train_tfidf,y_train)\n",
    "svm_clf.score(X_test_tfidf,y_test)\n",
    "y_pred = svm_clf.fit(X_train_tfidf, y_train).predict(X_test_tfidf)\n",
    "cm=confusion_matrix(y_test, y_pred)\n",
    "print(cm)"
   ]
  },
  {
   "cell_type": "code",
   "execution_count": 13,
   "metadata": {
    "collapsed": false
   },
   "outputs": [
    {
     "name": "stdout",
     "output_type": "stream",
     "text": [
      "             precision    recall  f1-score   support\n",
      "\n",
      "     Useful       0.66      0.77      0.71     64358\n",
      " Not Useful       0.62      0.48      0.54     49333\n",
      "\n",
      "avg / total       0.64      0.65      0.64    113691\n",
      "\n"
     ]
    }
   ],
   "source": [
    "print(metrics.classification_report(y_test, y_pred, target_names = [\"Useful\", \"Not Useful\"]))"
   ]
  },
  {
   "cell_type": "code",
   "execution_count": 14,
   "metadata": {
    "collapsed": false
   },
   "outputs": [
    {
     "data": {
      "image/png": "[encoded data removed]",
      "text/plain": [
       "<matplotlib.figure.Figure at 0x146be1748>"
      ]
     },
     "metadata": {},
     "output_type": "display_data"
    },
    {
     "data": {
      "image/png": "[encoded data removed]",
      "text/plain": [
       "<matplotlib.figure.Figure at 0x116c45cc0>"
      ]
     },
     "metadata": {},
     "output_type": "display_data"
    }
   ],
   "source": [
    "# Retrieved from \n",
    "# https://www.kaggle.com/gpayen/d/snap/amazon-fine-food-reviews/building-a-prediction-model/comments\n",
    "def plot_confusion_matrix(cm, title='Confusion matrix', cmap=plt.cm.Blues):\n",
    "    plt.imshow(cm, interpolation='nearest', cmap=cmap)\n",
    "    plt.title(title)\n",
    "    plt.colorbar()\n",
    "    tick_marks = np.arange(len(set(Score)))\n",
    "    plt.xticks(tick_marks, set(Score), rotation=45)\n",
    "    plt.yticks(tick_marks, set(Score))\n",
    "    plt.tight_layout()\n",
    "    plt.ylabel('True label')\n",
    "    plt.xlabel('Predicted label')\n",
    "    \n",
    "# Compute confusion matrix\n",
    "#cm = confusion_matrix(y_test, prediction['Logistic'])\n",
    "np.set_printoptions(precision=2)\n",
    "plt.figure()\n",
    "plot_confusion_matrix(cm)    \n",
    "\n",
    "cm_normalized = cm.astype('float') / cm.sum(axis=1)[:, np.newaxis]\n",
    "plt.figure()\n",
    "plot_confusion_matrix(cm_normalized, title='Normalized confusion matrix')\n",
    "\n",
    "plt.show()"
   ]
  },
  {
   "cell_type": "code",
   "execution_count": null,
   "metadata": {
    "collapsed": true
   },
   "outputs": [],
   "source": []
  }
 ],
 "metadata": {
  "anaconda-cloud": {},
  "kernelspec": {
   "display_name": "Python [Root]",
   "language": "python",
   "name": "Python [Root]"
  }
 },
 "nbformat": 4,
 "nbformat_minor": 0
}
